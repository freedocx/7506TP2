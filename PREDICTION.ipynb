{
 "cells": [
  {
   "cell_type": "code",
   "execution_count": 139,
   "metadata": {},
   "outputs": [],
   "source": [
    "import pandas as pd\n",
    "import numpy as np\n",
    "from sklearn.model_selection import train_test_split\n",
    "import matplotlib.pyplot as plt\n",
    "import xgboost as xgb\n",
    "from sklearn.model_selection import GridSearchCV\n",
    "from sklearn.preprocessing import MinMaxScaler\n",
    "from sklearn.metrics import accuracy_score\n",
    "pd.options.display.float_format = '{:20,.2f}'.format # suprimimos la notacion cientifica en los outputs\n",
    "\n",
    "import warnings\n",
    "warnings.filterwarnings('ignore')"
   ]
  },
  {
   "cell_type": "code",
   "execution_count": 140,
   "metadata": {},
   "outputs": [
    {
     "data": {
      "text/plain": [
       "'0.81'"
      ]
     },
     "execution_count": 140,
     "metadata": {},
     "output_type": "execute_result"
    }
   ],
   "source": [
    "xgb.__version__"
   ]
  },
  {
   "cell_type": "code",
   "execution_count": 141,
   "metadata": {},
   "outputs": [],
   "source": [
    "eventos = pd.read_csv('/home/pcsor/datos/events_up_to_01062018.csv',low_memory=False)\n",
    "train = pd.read_csv('/home/pcsor/datos/labels_training_set.csv',low_memory=False)\n",
    "test = pd.read_csv('/home/pcsor/datos/trocafone_kaggle_test.csv',low_memory=False)"
   ]
  },
  {
   "cell_type": "code",
   "execution_count": 142,
   "metadata": {},
   "outputs": [
    {
     "data": {
      "text/plain": [
       "('2018-01-01 08:09:31', '2018-05-31 23:59:59')"
      ]
     },
     "execution_count": 142,
     "metadata": {},
     "output_type": "execute_result"
    }
   ],
   "source": [
    "eventos['timestamp'].min() , eventos['timestamp'].max()"
   ]
  },
  {
   "cell_type": "code",
   "execution_count": 143,
   "metadata": {},
   "outputs": [
    {
     "data": {
      "text/plain": [
       "(2341681, 23)"
      ]
     },
     "execution_count": 143,
     "metadata": {},
     "output_type": "execute_result"
    }
   ],
   "source": [
    "eventos.shape"
   ]
  },
  {
   "cell_type": "code",
   "execution_count": 144,
   "metadata": {},
   "outputs": [],
   "source": [
    "test['label']=2\n",
    "train = pd.concat([train,test])"
   ]
  },
  {
   "cell_type": "code",
   "execution_count": 145,
   "metadata": {},
   "outputs": [
    {
     "data": {
      "text/plain": [
       "((38829, 2), (19415, 2))"
      ]
     },
     "execution_count": 145,
     "metadata": {},
     "output_type": "execute_result"
    }
   ],
   "source": [
    "train.shape,test.shape"
   ]
  },
  {
   "cell_type": "code",
   "execution_count": 146,
   "metadata": {},
   "outputs": [],
   "source": [
    "def getBrand(s):\n",
    "    if (type(s) == float): return None\n",
    "    parsedBrand = s.split()[0]\n",
    "    return \"Apple\" if parsedBrand in {\"iPad\", \"iPhone\"} else parsedBrand #Agrupamos iPad e iPhone en Apple\n",
    "eventos['marca'] = eventos['model'].apply(lambda x: getBrand(x))\n",
    "brand_counts = eventos['marca'].value_counts()"
   ]
  },
  {
   "cell_type": "code",
   "execution_count": 147,
   "metadata": {},
   "outputs": [],
   "source": [
    "dummy = eventos.groupby(['person','marca'])['event'].agg(['count']).unstack(level=1).reset_index()\n",
    "dummy.columns = ['person','Apple','Asus','LG','Lenovo','Motorola','Outros','Quantum','Samsung','Sony','Xiaomi']\n",
    "train = pd.merge(train,dummy[['person','Apple','Asus','LG','Lenovo','Motorola','Samsung','Sony']],how='left',on='person')"
   ]
  },
  {
   "cell_type": "code",
   "execution_count": 148,
   "metadata": {},
   "outputs": [
    {
     "data": {
      "text/plain": [
       "Apple       599266\n",
       "Samsung     501307\n",
       "Motorola    162914\n",
       "LG           24814\n",
       "Sony         15599\n",
       "Lenovo       11382\n",
       "Asus          4536\n",
       "Quantum       1693\n",
       "Outros           1\n",
       "Xiaomi           1\n",
       "Name: marca, dtype: int64"
      ]
     },
     "execution_count": 148,
     "metadata": {},
     "output_type": "execute_result"
    }
   ],
   "source": [
    "brand_counts"
   ]
  },
  {
   "cell_type": "code",
   "execution_count": 149,
   "metadata": {},
   "outputs": [],
   "source": [
    "eventos['timestamp2'] = eventos['timestamp'].apply(lambda t: datetime.strptime(t,'%Y-%m-%d %H:%M:%S'))\n",
    "eventos['Hora'] = eventos['timestamp2'].dt.strftime(\"%H\").apply(lambda s: int(s))\n",
    "eventos[\"DiaMes\"] = eventos['timestamp2'].dt.strftime(\"%d\").apply(lambda s: int(s))\n",
    "eventos[\"DiaSemana\"] = eventos[\"timestamp2\"].dt.strftime(\"%w\").apply(lambda s: int(s))"
   ]
  },
  {
   "cell_type": "code",
   "execution_count": 150,
   "metadata": {},
   "outputs": [],
   "source": [
    "eventos['EventosDe0-7'] = 0\n",
    "eventos['EventosDe8-15'] = 0\n",
    "eventos['EventosDe16-23'] = 0\n",
    "eventos['EventosDe0-7'].loc[(eventos['Hora']>=0) & (eventos['Hora']<=7)] = 1\n",
    "eventos['EventosDe8-15'].loc[(eventos['Hora']>=8) & (eventos['Hora']<=15)] = 1\n",
    "eventos['EventosDe16-23'].loc[(eventos['Hora']>=16) & (eventos['Hora']<=23)] = 1"
   ]
  },
  {
   "cell_type": "code",
   "execution_count": 151,
   "metadata": {},
   "outputs": [],
   "source": [
    "dummy = eventos.groupby(['person'])['EventosDe0-7'].agg(['sum']).reset_index()\n",
    "dummy.columns = ['person','EventosDe0-7']\n",
    "train = pd.merge(train,dummy,how='left',on='person')\n",
    "dummy = eventos.groupby(['person'])['EventosDe8-15'].agg(['sum']).reset_index()\n",
    "dummy.columns = ['person','EventosDe8-15']\n",
    "train = pd.merge(train,dummy,how='left',on='person')\n",
    "dummy = eventos.groupby(['person'])['EventosDe16-23'].agg(['sum']).reset_index()\n",
    "dummy.columns = ['person','EventosDe16-23']\n",
    "train = pd.merge(train,dummy,how='left',on='person')"
   ]
  },
  {
   "cell_type": "code",
   "execution_count": 152,
   "metadata": {},
   "outputs": [],
   "source": [
    "dummy = eventos.groupby(['person','DiaSemana'])['event'].agg(['count']).unstack(level=1).reset_index()\n",
    "dummy.columns = ['person','w0','w1','w2','w3','w4','w5','w6']\n",
    "train = pd.merge(train,dummy,how='left',on='person')"
   ]
  },
  {
   "cell_type": "code",
   "execution_count": 153,
   "metadata": {},
   "outputs": [],
   "source": [
    "dummy = eventos.groupby(['person','DiaMes'])['event'].agg(['count']).unstack(level=1).reset_index()\n",
    "dummy.columns = ['person','d1','d2','d3','d4','d5','d6','d7','d8','d9','d10','d11','d12','d13','d14','d15','d16','d17','d18','d19','d20','d21','d22','d23','d24','d25','d26','d27','d28','d29','d30','d31']\n",
    "dummy = dummy.fillna(0)\n",
    "train = pd.merge(train,dummy,how='left',on='person')"
   ]
  },
  {
   "cell_type": "code",
   "execution_count": 154,
   "metadata": {},
   "outputs": [],
   "source": [
    "dummy = eventos.groupby(['person','condition'])['event'].agg(['count']).unstack(level=1).reset_index()\n",
    "dummy.columns = ['person','Bom','Bom - Sem Touch ID','Excelente','Muito Bom','Novo']\n",
    "train = pd.merge(train,dummy,how='left',on='person')"
   ]
  },
  {
   "cell_type": "code",
   "execution_count": 155,
   "metadata": {},
   "outputs": [],
   "source": [
    "dummy = eventos.groupby(['person','device_type'])['event'].agg(['count']).unstack(level=1).reset_index()\n",
    "dummy.columns = ['person','Computer','Smartphone','Tablet','Unknown']\n",
    "train = pd.merge(train,dummy[['person','Computer','Smartphone']],how='left',on='person')"
   ]
  },
  {
   "cell_type": "code",
   "execution_count": 156,
   "metadata": {},
   "outputs": [],
   "source": [
    "eventos['storage'].loc[eventos['storage'] == '16GB'] = 16\n",
    "eventos['storage'].loc[eventos['storage'] == '32GB'] = 32\n",
    "eventos['storage'].loc[eventos['storage'] == '64GB'] = 64\n",
    "eventos['storage'].loc[eventos['storage'] == '128GB'] = 128\n",
    "eventos['storage'].loc[eventos['storage'] == '8GB'] = 8\n",
    "eventos['storage'].loc[eventos['storage'] == '256GB']= 256\n",
    "eventos['storage'].loc[eventos['storage'] == '4GB'] = 4\n",
    "eventos['storage'].loc[eventos['storage'] == '512MB'] = 0.5\n",
    "eventos['storage'] = eventos['storage'].fillna(0)\n",
    "dummy = eventos[['person','storage']].groupby('person').sum().reset_index()\n",
    "train = pd.merge(train,dummy,how='left',on=['person'])"
   ]
  },
  {
   "cell_type": "code",
   "execution_count": 157,
   "metadata": {},
   "outputs": [],
   "source": [
    "######################### Eventos\n",
    "dummy = eventos[['person','event']].groupby('person').count().reset_index()\n",
    "dummy.columns = ['person','EventosXusuario']\n",
    "train = pd.merge(train,dummy,how='left',on=['person'])\n",
    "dummy = eventos.loc[eventos['timestamp']>'2018-05-26 00:00:00']\n",
    "dummy = dummy[['person','event']].groupby('person').count().reset_index()\n",
    "dummy.columns = ['person','Eventos5Xusuario']\n",
    "train = pd.merge(train,dummy,how='left',on=['person'])\n",
    "dummy = eventos.loc[eventos['timestamp']>'2018-05-31 00:00:00']\n",
    "dummy = dummy[['person','event']].groupby('person').count().reset_index()\n",
    "dummy.columns = ['person','Eventos1Xusuario']\n",
    "train = pd.merge(train,dummy,how='left',on=['person'])\n",
    "dummy = eventos.loc[eventos['timestamp']>'2018-05-28 00:00:00']\n",
    "dummy = dummy[['person','event']].groupby('person').count().reset_index()\n",
    "dummy.columns = ['person','Eventos3Xusuario']\n",
    "train = pd.merge(train,dummy,how='left',on=['person'])\n",
    "################# Mayo\n",
    "dummy = eventos.loc[eventos['timestamp']>'2018-05-16 00:00:00']\n",
    "dummy = dummy[['person','event']].groupby('person').count().reset_index()\n",
    "dummy.columns = ['person','Eventos15MayoXusuario']\n",
    "train = pd.merge(train,dummy,how='left',on=['person'])\n",
    "dummy = eventos.loc[(eventos['timestamp']>'2018-05-01 00:00:00') & (eventos['timestamp']<'2018-05-16 00:00:00')]\n",
    "dummy = dummy[['person','event']].groupby('person').count().reset_index()\n",
    "dummy.columns = ['person','Eventos0MayoXusuario']\n",
    "train = pd.merge(train,dummy,how='left',on=['person'])"
   ]
  },
  {
   "cell_type": "code",
   "execution_count": 158,
   "metadata": {},
   "outputs": [],
   "source": [
    "#########################Checkout\n",
    "dummy = eventos.loc[eventos['event'] == 'checkout']\n",
    "dummy = dummy[['person','event']].groupby('person').count().reset_index()\n",
    "dummy.columns = ['person','CheckOutXusuario']\n",
    "train = pd.merge(train,dummy,how='left',on=['person'])\n",
    "dummy = eventos.loc[(eventos['timestamp']>'2018-05-26 00:00:00') & (eventos['event'] == 'checkout')]\n",
    "dummy = dummy[['person','event']].groupby('person').count().reset_index()\n",
    "dummy.columns = ['person','CheckOut5Xusuario']\n",
    "train = pd.merge(train,dummy,how='left',on=['person'])\n",
    "################# Mayo\n",
    "dummy = eventos.loc[(eventos['timestamp']>'2018-05-16 00:00:00') & (eventos['event']=='checkout')]\n",
    "dummy = dummy[['person','event']].groupby('person').count().reset_index()\n",
    "dummy.columns = ['person','CheckOut15MayoXusuario']\n",
    "train = pd.merge(train,dummy,how='left',on=['person'])"
   ]
  },
  {
   "cell_type": "code",
   "execution_count": 159,
   "metadata": {},
   "outputs": [],
   "source": [
    "######################### Conversion\n",
    "dummy = eventos.loc[eventos['event'] == 'conversion']\n",
    "dummy = dummy[['person','event']].groupby('person').count().reset_index()\n",
    "dummy.columns = ['person','ConversionXusuario']\n",
    "train = pd.merge(train,dummy,how='left',on=['person'])\n",
    "################# Mayo\n",
    "dummy = eventos.loc[(eventos['timestamp']>'2018-05-16 00:00:00') & (eventos['event']=='conversion')]\n",
    "dummy = dummy[['person','event']].groupby('person').count().reset_index()\n",
    "dummy.columns = ['person','Conversion15MayoXusuario']\n",
    "train = pd.merge(train,dummy,how='left',on=['person'])"
   ]
  },
  {
   "cell_type": "code",
   "execution_count": 160,
   "metadata": {},
   "outputs": [],
   "source": [
    "######################### Viewed Product\n",
    "dummy = eventos.loc[eventos['event'] == 'viewed product']\n",
    "dummy = dummy[['person','event']].groupby('person').count().reset_index()\n",
    "dummy.columns = ['person','ViewedProductXusuario']\n",
    "train = pd.merge(train,dummy,how='left',on=['person'])\n",
    "dummy = eventos.loc[(eventos['timestamp']>'2018-05-26 00:00:00') & (eventos['event']=='viewed product')]\n",
    "dummy = dummy[['person','event']].groupby('person').count().reset_index()\n",
    "dummy.columns = ['person','ViewedProduct5Xusuario']\n",
    "train = pd.merge(train,dummy,how='left',on=['person'])\n",
    "dummy = eventos.loc[(eventos['timestamp']>'2018-05-31 00:00:00') & (eventos['event']=='viewed product')]\n",
    "dummy = dummy[['person','event']].groupby('person').count().reset_index()\n",
    "dummy.columns = ['person','ViewedProduct1Xusuario']\n",
    "train = pd.merge(train,dummy,how='left',on=['person'])\n",
    "dummy = eventos.loc[(eventos['timestamp']>'2018-05-28 00:00:00') & (eventos['event']=='viewed product')]\n",
    "dummy = dummy[['person','event']].groupby('person').count().reset_index()\n",
    "dummy.columns = ['person','ViewedProduct3Xusuario']\n",
    "train = pd.merge(train,dummy,how='left',on=['person'])\n",
    "################# Mayo\n",
    "dummy = eventos.loc[(eventos['timestamp']>'2018-05-16 00:00:00') & (eventos['event']=='viewed product')]\n",
    "dummy = dummy[['person','event']].groupby('person').count().reset_index()\n",
    "dummy.columns = ['person','View15MayoXusuario']\n",
    "train = pd.merge(train,dummy,how='left',on=['person'])\n",
    "dummy = eventos.loc[(eventos['timestamp']>'2018-05-01 00:00:00') & (eventos['timestamp']<'2018-05-16 00:00:00')\\\n",
    "                   & (eventos['event']=='viewed product')]\n",
    "dummy = dummy[['person','event']].groupby('person').count().reset_index()\n",
    "dummy.columns = ['person','View00MayoXusuario']\n",
    "train = pd.merge(train,dummy,how='left',on=['person'])"
   ]
  },
  {
   "cell_type": "code",
   "execution_count": 161,
   "metadata": {},
   "outputs": [],
   "source": [
    "######################### SearchP\n",
    "dummy = eventos.loc[eventos['event'] == 'searched products']\n",
    "dummy = dummy[['person','event']].groupby('person').count().reset_index()\n",
    "dummy.columns = ['person','SearchPXusuario']\n",
    "train = pd.merge(train,dummy,how='left',on=['person'])\n",
    "################# Mayo\n",
    "dummy = eventos.loc[(eventos['timestamp']>'2018-05-16 00:00:00') & (eventos['event']=='searched products')]\n",
    "dummy = dummy[['person','event']].groupby('person').count().reset_index()\n",
    "dummy.columns = ['person','Search15MayoXusuario']\n",
    "train = pd.merge(train,dummy,how='left',on=['person'])"
   ]
  },
  {
   "cell_type": "code",
   "execution_count": 162,
   "metadata": {},
   "outputs": [],
   "source": [
    "######################### search engine hit\n",
    "dummy = eventos.loc[eventos['event'] == 'search engine hit']\n",
    "dummy = dummy[['person','event']].groupby('person').count().reset_index()\n",
    "dummy.columns = ['person','SearchHXusuario']\n",
    "train = pd.merge(train,dummy,how='left',on=['person'])\n",
    "######################### ad campaign hit\n",
    "dummy = eventos.loc[eventos['event'] == 'ad campaign hit']\n",
    "dummy = dummy[['person','event']].groupby('person').count().reset_index()\n",
    "dummy.columns = ['person','adXusuario']\n",
    "train = pd.merge(train,dummy,how='left',on=['person'])\n",
    "######################### brand\n",
    "dummy = eventos.loc[eventos['event'] == 'brand listing']\n",
    "dummy = dummy[['person','event']].groupby('person').count().reset_index()\n",
    "dummy.columns = ['person','brandXusuario']\n",
    "train = pd.merge(train,dummy,how='left',on=['person'])\n",
    "dummy = eventos.loc[(eventos['timestamp']>'2018-05-16 00:00:00') & (eventos['event']=='brand listing')]\n",
    "dummy = dummy[['person','event']].groupby('person').count().reset_index()\n",
    "dummy.columns = ['person','brandeMayo15Xusuario']\n",
    "train = pd.merge(train,dummy,how='left',on=['person'])\n",
    "dummy = eventos.loc[(eventos['timestamp']>'2018-05-26 00:00:00') & (eventos['event']=='brand listing')]\n",
    "dummy = dummy[['person','event']].groupby('person').count().reset_index()\n",
    "dummy.columns = ['person','brand5Xusuario']\n",
    "train = pd.merge(train,dummy,how='left',on=['person'])\n",
    "######################### staticpage\n",
    "dummy = eventos.loc[eventos['event'] == 'staticpage']\n",
    "dummy = dummy[['person','event']].groupby('person').count().reset_index()\n",
    "dummy.columns = ['person','staticpageXusuario']\n",
    "train = pd.merge(train,dummy,how='left',on=['person'])\n",
    "dummy = eventos.loc[eventos['event'] == 'visited site']\n",
    "dummy = dummy[['person','event']].groupby('person').count().reset_index()\n",
    "dummy.columns = ['person','visitXusuario']\n",
    "train = pd.merge(train,dummy,how='left',on=['person'])\n",
    "######################### staticpage\n",
    "dummy = eventos.loc[eventos['event'] == 'generic listing']\n",
    "dummy = dummy[['person','event']].groupby('person').count().reset_index()\n",
    "dummy.columns = ['person','genericXusuario']\n",
    "train = pd.merge(train,dummy,how='left',on=['person'])\n",
    "dummy = eventos.loc[(eventos['timestamp']>'2018-05-26 00:00:00') & (eventos['event']=='generic listing')]\n",
    "dummy = dummy[['person','event']].groupby('person').count().reset_index()\n",
    "dummy.columns = ['person','generic5Xusuario']\n",
    "train = pd.merge(train,dummy,how='left',on=['person'])"
   ]
  },
  {
   "cell_type": "code",
   "execution_count": 163,
   "metadata": {},
   "outputs": [],
   "source": [
    "#### Tasa de conversion por modelo\n",
    "def most_common(lst):\n",
    "    return max(set(lst), key=lst.count)\n",
    "dummy = eventos.loc[eventos['model'].notnull()]\n",
    "dummy = dummy.groupby('person')['model'].apply(list)\n",
    "dummy = dummy.map(most_common).reset_index()\n",
    "train = pd.merge(train,dummy,how='left',on=['person'])\n",
    "cconversion = eventos.loc[eventos['event']=='conversion']['model'].value_counts().reset_index()\n",
    "cevento = eventos['model'].value_counts().reset_index()\n",
    "dummy = pd.merge(cconversion,cevento,how='left',on='index')\n",
    "dummy['tasa'] = dummy['model_x']/dummy['model_y']\n",
    "dummy = dummy.loc[dummy['model_y']>10000][['index','tasa']]\n",
    "dummy.columns = ['model','TasaConversionXmodelo']\n",
    "train = pd.merge(train,dummy,how='left',on=['model'])\n",
    "train = train.drop('model',axis=1)"
   ]
  },
  {
   "cell_type": "code",
   "execution_count": 164,
   "metadata": {},
   "outputs": [],
   "source": [
    "#### Tasa de conversion por ciudad\n",
    "dummy = eventos.loc[eventos['city'].notnull()]\n",
    "dummy = dummy.groupby('person')['city'].apply(list)\n",
    "def most_common(lst):\n",
    "    return max(set(lst), key=lst.count)\n",
    "dummy = dummy.map(most_common).reset_index()\n",
    "train = pd.merge(train,dummy,how='left',on=['person'])\n",
    "conversionXciudad = train.groupby('city')['ConversionXusuario'].sum()\n",
    "eventoXciudad = train.groupby('city')['EventosXusuario'].sum()\n",
    "TasaConversionXciudad = (conversionXciudad/eventoXciudad).fillna(0)\n",
    "TasaConversionXciudad = TasaConversionXciudad.reset_index()\n",
    "TasaConversionXciudad.columns = ['city','TasaConversionXciudad']\n",
    "train = pd.merge(train,TasaConversionXciudad,how='left',on=['city'])\n",
    "train = train.drop('city',axis=1)"
   ]
  },
  {
   "cell_type": "code",
   "execution_count": 165,
   "metadata": {},
   "outputs": [],
   "source": [
    "eventos['event'].loc[eventos['event'] == 'visited site'] = 0\n",
    "eventos['event'].loc[eventos['event'] == 'search engine hit'] = 0\n",
    "eventos['event'].loc[eventos['event'] == 'ad campaign hit'] = 1\n",
    "eventos['event'].loc[eventos['event'] == 'staticpage'] = 0\n",
    "eventos['event'].loc[eventos['event'] == 'generic listing'] = 2\n",
    "eventos['event'].loc[eventos['event'] == 'searched products']= 1\n",
    "eventos['event'].loc[eventos['event'] == 'brand listing'] = 2\n",
    "eventos['event'].loc[eventos['event'] == 'viewed product'] = 3\n",
    "eventos['event'].loc[eventos['event'] == 'checkout']= 3\n",
    "eventos['event'].loc[eventos['event'] == 'conversion'] = 8\n",
    "eventos['event'].loc[eventos['event'] == 'lead']= 8\n",
    "#dummy = eventos.groupby('person')['event'].apply(list)\n",
    "dummy = eventos[['person','event']].groupby('person').sum().reset_index()\n",
    "dummy.columns = ['person','Calificacion']\n",
    "train = pd.merge(train,dummy,how='left',on=['person'])"
   ]
  },
  {
   "cell_type": "code",
   "execution_count": 166,
   "metadata": {},
   "outputs": [
    {
     "data": {
      "text/plain": [
       "((19415, 2), (38829, 89))"
      ]
     },
     "execution_count": 166,
     "metadata": {},
     "output_type": "execute_result"
    }
   ],
   "source": [
    "test.shape,train.shape"
   ]
  },
  {
   "cell_type": "code",
   "execution_count": 167,
   "metadata": {},
   "outputs": [],
   "source": [
    "train=train.fillna(0)\n",
    "x = train.iloc[:,2:].values \n",
    "min_max_scaler = MinMaxScaler()\n",
    "x_scaled = min_max_scaler.fit_transform(x)\n",
    "df = pd.DataFrame(x_scaled)\n",
    "df.columns = train.iloc[:,2:].keys()\n",
    "train = pd.concat([train.drop(train.iloc[:,2:].keys(),axis=1),df],axis=1)"
   ]
  },
  {
   "cell_type": "code",
   "execution_count": 168,
   "metadata": {},
   "outputs": [],
   "source": [
    "test = train.loc[train['label'] == 2]\n",
    "train = train.loc[train['label'] != 2]\n",
    "testPerson = test['person']\n",
    "train_y = train['label']\n",
    "train = train.drop(['label','person'],axis=1)\n",
    "test = test.drop(['label','person'],axis=1)"
   ]
  },
  {
   "cell_type": "code",
   "execution_count": 169,
   "metadata": {},
   "outputs": [
    {
     "data": {
      "text/plain": [
       "((19414, 87), (19415, 87))"
      ]
     },
     "execution_count": 169,
     "metadata": {},
     "output_type": "execute_result"
    }
   ],
   "source": [
    "train.shape,test.shape"
   ]
  },
  {
   "cell_type": "code",
   "execution_count": 170,
   "metadata": {},
   "outputs": [
    {
     "data": {
      "text/plain": [
       "((9707,), (9707, 87), (9707, 87), (9707,))"
      ]
     },
     "execution_count": 170,
     "metadata": {},
     "output_type": "execute_result"
    }
   ],
   "source": [
    "X_train, X_test, y_train, y_test = train_test_split(train, train_y, test_size=0.5, random_state=2354)\n",
    "y_test.shape , X_test.shape , X_train.shape, y_train.shape"
   ]
  },
  {
   "cell_type": "code",
   "execution_count": 171,
   "metadata": {},
   "outputs": [
    {
     "data": {
      "text/plain": [
       "((19414, 87), (19414,))"
      ]
     },
     "execution_count": 171,
     "metadata": {},
     "output_type": "execute_result"
    }
   ],
   "source": [
    "train.shape,train_y.shape"
   ]
  },
  {
   "cell_type": "code",
   "execution_count": 172,
   "metadata": {},
   "outputs": [
    {
     "data": {
      "text/plain": [
       "GridSearchCV(cv=5, error_score='raise',\n",
       "       estimator=XGBClassifier(base_score=0.5, booster='gbtree', colsample_bylevel=1,\n",
       "       colsample_bytree=1, early_stopping_rounds=15, eval_metric='auc',\n",
       "       gamma=0, learning_rate=0.1, max_delta_step=0, max_depth=3,\n",
       "       min_child_weight=1, missing=None, n_estimators=100, n_jobs=4,\n",
       "       nthread=None, objective='binary:logistic', random_state=0,\n",
       "       reg_alpha=0, reg_lambda=1, scale_pos_weight=1, seed=None,\n",
       "       silent=True, subsample=1),\n",
       "       fit_params=None, iid=True, n_jobs=1,\n",
       "       param_grid={'learning_rate': [0.02], 'max_depth': [5], 'gamma': [5.4], 'n_estimators': [400, 500, 600], 'colsample_bylevel': [0.3, 0.4, 0.45]},\n",
       "       pre_dispatch='2*n_jobs', refit=True, return_train_score='warn',\n",
       "       scoring='roc_auc', verbose=0)"
      ]
     },
     "execution_count": 172,
     "metadata": {},
     "output_type": "execute_result"
    }
   ],
   "source": [
    "params = {'learning_rate': [0.02],\n",
    "    'max_depth': [5],\n",
    "    'gamma': [5.4],\n",
    "    'n_estimators': [400,500,600],\n",
    "         'colsample_bylevel':[0.3,0.4,0.45]}\n",
    "xgb_model = xgb.XGBClassifier(eval_metric='auc',n_jobs=4, early_stopping_rounds=15,silent=True)\n",
    "clf = GridSearchCV(xgb_model,params,scoring ='roc_auc',cv=5)\n",
    "#clf.fit(X_train,y_train)\n",
    "clf.fit(train,train_y)"
   ]
  },
  {
   "cell_type": "code",
   "execution_count": 173,
   "metadata": {},
   "outputs": [
    {
     "data": {
      "text/html": [
       "<div>\n",
       "<style scoped>\n",
       "    .dataframe tbody tr th:only-of-type {\n",
       "        vertical-align: middle;\n",
       "    }\n",
       "\n",
       "    .dataframe tbody tr th {\n",
       "        vertical-align: top;\n",
       "    }\n",
       "\n",
       "    .dataframe thead th {\n",
       "        text-align: right;\n",
       "    }\n",
       "</style>\n",
       "<table border=\"1\" class=\"dataframe\">\n",
       "  <thead>\n",
       "    <tr style=\"text-align: right;\">\n",
       "      <th></th>\n",
       "      <th>mean_fit_time</th>\n",
       "      <th>mean_score_time</th>\n",
       "      <th>mean_test_score</th>\n",
       "      <th>mean_train_score</th>\n",
       "      <th>param_colsample_bylevel</th>\n",
       "      <th>param_gamma</th>\n",
       "      <th>param_learning_rate</th>\n",
       "      <th>param_max_depth</th>\n",
       "      <th>param_n_estimators</th>\n",
       "      <th>params</th>\n",
       "      <th>...</th>\n",
       "      <th>split2_test_score</th>\n",
       "      <th>split2_train_score</th>\n",
       "      <th>split3_test_score</th>\n",
       "      <th>split3_train_score</th>\n",
       "      <th>split4_test_score</th>\n",
       "      <th>split4_train_score</th>\n",
       "      <th>std_fit_time</th>\n",
       "      <th>std_score_time</th>\n",
       "      <th>std_test_score</th>\n",
       "      <th>std_train_score</th>\n",
       "    </tr>\n",
       "  </thead>\n",
       "  <tbody>\n",
       "    <tr>\n",
       "      <th>1</th>\n",
       "      <td>2.34</td>\n",
       "      <td>0.02</td>\n",
       "      <td>0.87</td>\n",
       "      <td>0.94</td>\n",
       "      <td>0.30</td>\n",
       "      <td>5.40</td>\n",
       "      <td>0.02</td>\n",
       "      <td>5</td>\n",
       "      <td>500</td>\n",
       "      <td>{'colsample_bylevel': 0.3, 'gamma': 5.4, 'lear...</td>\n",
       "      <td>...</td>\n",
       "      <td>0.86</td>\n",
       "      <td>0.94</td>\n",
       "      <td>0.89</td>\n",
       "      <td>0.94</td>\n",
       "      <td>0.88</td>\n",
       "      <td>0.94</td>\n",
       "      <td>0.06</td>\n",
       "      <td>0.00</td>\n",
       "      <td>0.01</td>\n",
       "      <td>0.00</td>\n",
       "    </tr>\n",
       "    <tr>\n",
       "      <th>2</th>\n",
       "      <td>2.72</td>\n",
       "      <td>0.03</td>\n",
       "      <td>0.87</td>\n",
       "      <td>0.94</td>\n",
       "      <td>0.30</td>\n",
       "      <td>5.40</td>\n",
       "      <td>0.02</td>\n",
       "      <td>5</td>\n",
       "      <td>600</td>\n",
       "      <td>{'colsample_bylevel': 0.3, 'gamma': 5.4, 'lear...</td>\n",
       "      <td>...</td>\n",
       "      <td>0.86</td>\n",
       "      <td>0.94</td>\n",
       "      <td>0.89</td>\n",
       "      <td>0.94</td>\n",
       "      <td>0.88</td>\n",
       "      <td>0.94</td>\n",
       "      <td>0.04</td>\n",
       "      <td>0.00</td>\n",
       "      <td>0.01</td>\n",
       "      <td>0.00</td>\n",
       "    </tr>\n",
       "    <tr>\n",
       "      <th>0</th>\n",
       "      <td>1.89</td>\n",
       "      <td>0.02</td>\n",
       "      <td>0.87</td>\n",
       "      <td>0.93</td>\n",
       "      <td>0.30</td>\n",
       "      <td>5.40</td>\n",
       "      <td>0.02</td>\n",
       "      <td>5</td>\n",
       "      <td>400</td>\n",
       "      <td>{'colsample_bylevel': 0.3, 'gamma': 5.4, 'lear...</td>\n",
       "      <td>...</td>\n",
       "      <td>0.86</td>\n",
       "      <td>0.94</td>\n",
       "      <td>0.89</td>\n",
       "      <td>0.93</td>\n",
       "      <td>0.88</td>\n",
       "      <td>0.93</td>\n",
       "      <td>0.02</td>\n",
       "      <td>0.00</td>\n",
       "      <td>0.01</td>\n",
       "      <td>0.00</td>\n",
       "    </tr>\n",
       "    <tr>\n",
       "      <th>3</th>\n",
       "      <td>2.18</td>\n",
       "      <td>0.02</td>\n",
       "      <td>0.87</td>\n",
       "      <td>0.94</td>\n",
       "      <td>0.40</td>\n",
       "      <td>5.40</td>\n",
       "      <td>0.02</td>\n",
       "      <td>5</td>\n",
       "      <td>400</td>\n",
       "      <td>{'colsample_bylevel': 0.4, 'gamma': 5.4, 'lear...</td>\n",
       "      <td>...</td>\n",
       "      <td>0.86</td>\n",
       "      <td>0.94</td>\n",
       "      <td>0.88</td>\n",
       "      <td>0.94</td>\n",
       "      <td>0.88</td>\n",
       "      <td>0.94</td>\n",
       "      <td>0.03</td>\n",
       "      <td>0.00</td>\n",
       "      <td>0.01</td>\n",
       "      <td>0.00</td>\n",
       "    </tr>\n",
       "    <tr>\n",
       "      <th>4</th>\n",
       "      <td>2.66</td>\n",
       "      <td>0.02</td>\n",
       "      <td>0.87</td>\n",
       "      <td>0.94</td>\n",
       "      <td>0.40</td>\n",
       "      <td>5.40</td>\n",
       "      <td>0.02</td>\n",
       "      <td>5</td>\n",
       "      <td>500</td>\n",
       "      <td>{'colsample_bylevel': 0.4, 'gamma': 5.4, 'lear...</td>\n",
       "      <td>...</td>\n",
       "      <td>0.86</td>\n",
       "      <td>0.94</td>\n",
       "      <td>0.88</td>\n",
       "      <td>0.94</td>\n",
       "      <td>0.88</td>\n",
       "      <td>0.94</td>\n",
       "      <td>0.01</td>\n",
       "      <td>0.00</td>\n",
       "      <td>0.01</td>\n",
       "      <td>0.00</td>\n",
       "    </tr>\n",
       "    <tr>\n",
       "      <th>5</th>\n",
       "      <td>3.15</td>\n",
       "      <td>0.02</td>\n",
       "      <td>0.87</td>\n",
       "      <td>0.94</td>\n",
       "      <td>0.40</td>\n",
       "      <td>5.40</td>\n",
       "      <td>0.02</td>\n",
       "      <td>5</td>\n",
       "      <td>600</td>\n",
       "      <td>{'colsample_bylevel': 0.4, 'gamma': 5.4, 'lear...</td>\n",
       "      <td>...</td>\n",
       "      <td>0.86</td>\n",
       "      <td>0.94</td>\n",
       "      <td>0.88</td>\n",
       "      <td>0.94</td>\n",
       "      <td>0.88</td>\n",
       "      <td>0.94</td>\n",
       "      <td>0.02</td>\n",
       "      <td>0.00</td>\n",
       "      <td>0.01</td>\n",
       "      <td>0.00</td>\n",
       "    </tr>\n",
       "    <tr>\n",
       "      <th>6</th>\n",
       "      <td>2.34</td>\n",
       "      <td>0.02</td>\n",
       "      <td>0.87</td>\n",
       "      <td>0.94</td>\n",
       "      <td>0.45</td>\n",
       "      <td>5.40</td>\n",
       "      <td>0.02</td>\n",
       "      <td>5</td>\n",
       "      <td>400</td>\n",
       "      <td>{'colsample_bylevel': 0.45, 'gamma': 5.4, 'lea...</td>\n",
       "      <td>...</td>\n",
       "      <td>0.86</td>\n",
       "      <td>0.94</td>\n",
       "      <td>0.89</td>\n",
       "      <td>0.94</td>\n",
       "      <td>0.88</td>\n",
       "      <td>0.94</td>\n",
       "      <td>0.01</td>\n",
       "      <td>0.00</td>\n",
       "      <td>0.01</td>\n",
       "      <td>0.00</td>\n",
       "    </tr>\n",
       "    <tr>\n",
       "      <th>7</th>\n",
       "      <td>2.86</td>\n",
       "      <td>0.02</td>\n",
       "      <td>0.87</td>\n",
       "      <td>0.94</td>\n",
       "      <td>0.45</td>\n",
       "      <td>5.40</td>\n",
       "      <td>0.02</td>\n",
       "      <td>5</td>\n",
       "      <td>500</td>\n",
       "      <td>{'colsample_bylevel': 0.45, 'gamma': 5.4, 'lea...</td>\n",
       "      <td>...</td>\n",
       "      <td>0.86</td>\n",
       "      <td>0.94</td>\n",
       "      <td>0.89</td>\n",
       "      <td>0.94</td>\n",
       "      <td>0.88</td>\n",
       "      <td>0.94</td>\n",
       "      <td>0.01</td>\n",
       "      <td>0.00</td>\n",
       "      <td>0.01</td>\n",
       "      <td>0.00</td>\n",
       "    </tr>\n",
       "    <tr>\n",
       "      <th>8</th>\n",
       "      <td>3.40</td>\n",
       "      <td>0.02</td>\n",
       "      <td>0.87</td>\n",
       "      <td>0.94</td>\n",
       "      <td>0.45</td>\n",
       "      <td>5.40</td>\n",
       "      <td>0.02</td>\n",
       "      <td>5</td>\n",
       "      <td>600</td>\n",
       "      <td>{'colsample_bylevel': 0.45, 'gamma': 5.4, 'lea...</td>\n",
       "      <td>...</td>\n",
       "      <td>0.86</td>\n",
       "      <td>0.94</td>\n",
       "      <td>0.88</td>\n",
       "      <td>0.94</td>\n",
       "      <td>0.87</td>\n",
       "      <td>0.94</td>\n",
       "      <td>0.03</td>\n",
       "      <td>0.00</td>\n",
       "      <td>0.01</td>\n",
       "      <td>0.00</td>\n",
       "    </tr>\n",
       "  </tbody>\n",
       "</table>\n",
       "<p>9 rows × 25 columns</p>\n",
       "</div>"
      ],
      "text/plain": [
       "         mean_fit_time      mean_score_time      mean_test_score  \\\n",
       "1                 2.34                 0.02                 0.87   \n",
       "2                 2.72                 0.03                 0.87   \n",
       "0                 1.89                 0.02                 0.87   \n",
       "3                 2.18                 0.02                 0.87   \n",
       "4                 2.66                 0.02                 0.87   \n",
       "5                 3.15                 0.02                 0.87   \n",
       "6                 2.34                 0.02                 0.87   \n",
       "7                 2.86                 0.02                 0.87   \n",
       "8                 3.40                 0.02                 0.87   \n",
       "\n",
       "      mean_train_score param_colsample_bylevel          param_gamma  \\\n",
       "1                 0.94                    0.30                 5.40   \n",
       "2                 0.94                    0.30                 5.40   \n",
       "0                 0.93                    0.30                 5.40   \n",
       "3                 0.94                    0.40                 5.40   \n",
       "4                 0.94                    0.40                 5.40   \n",
       "5                 0.94                    0.40                 5.40   \n",
       "6                 0.94                    0.45                 5.40   \n",
       "7                 0.94                    0.45                 5.40   \n",
       "8                 0.94                    0.45                 5.40   \n",
       "\n",
       "   param_learning_rate param_max_depth param_n_estimators  \\\n",
       "1                 0.02               5                500   \n",
       "2                 0.02               5                600   \n",
       "0                 0.02               5                400   \n",
       "3                 0.02               5                400   \n",
       "4                 0.02               5                500   \n",
       "5                 0.02               5                600   \n",
       "6                 0.02               5                400   \n",
       "7                 0.02               5                500   \n",
       "8                 0.02               5                600   \n",
       "\n",
       "                                              params         ...           \\\n",
       "1  {'colsample_bylevel': 0.3, 'gamma': 5.4, 'lear...         ...            \n",
       "2  {'colsample_bylevel': 0.3, 'gamma': 5.4, 'lear...         ...            \n",
       "0  {'colsample_bylevel': 0.3, 'gamma': 5.4, 'lear...         ...            \n",
       "3  {'colsample_bylevel': 0.4, 'gamma': 5.4, 'lear...         ...            \n",
       "4  {'colsample_bylevel': 0.4, 'gamma': 5.4, 'lear...         ...            \n",
       "5  {'colsample_bylevel': 0.4, 'gamma': 5.4, 'lear...         ...            \n",
       "6  {'colsample_bylevel': 0.45, 'gamma': 5.4, 'lea...         ...            \n",
       "7  {'colsample_bylevel': 0.45, 'gamma': 5.4, 'lea...         ...            \n",
       "8  {'colsample_bylevel': 0.45, 'gamma': 5.4, 'lea...         ...            \n",
       "\n",
       "     split2_test_score   split2_train_score    split3_test_score  \\\n",
       "1                 0.86                 0.94                 0.89   \n",
       "2                 0.86                 0.94                 0.89   \n",
       "0                 0.86                 0.94                 0.89   \n",
       "3                 0.86                 0.94                 0.88   \n",
       "4                 0.86                 0.94                 0.88   \n",
       "5                 0.86                 0.94                 0.88   \n",
       "6                 0.86                 0.94                 0.89   \n",
       "7                 0.86                 0.94                 0.89   \n",
       "8                 0.86                 0.94                 0.88   \n",
       "\n",
       "    split3_train_score    split4_test_score   split4_train_score  \\\n",
       "1                 0.94                 0.88                 0.94   \n",
       "2                 0.94                 0.88                 0.94   \n",
       "0                 0.93                 0.88                 0.93   \n",
       "3                 0.94                 0.88                 0.94   \n",
       "4                 0.94                 0.88                 0.94   \n",
       "5                 0.94                 0.88                 0.94   \n",
       "6                 0.94                 0.88                 0.94   \n",
       "7                 0.94                 0.88                 0.94   \n",
       "8                 0.94                 0.87                 0.94   \n",
       "\n",
       "          std_fit_time       std_score_time       std_test_score  \\\n",
       "1                 0.06                 0.00                 0.01   \n",
       "2                 0.04                 0.00                 0.01   \n",
       "0                 0.02                 0.00                 0.01   \n",
       "3                 0.03                 0.00                 0.01   \n",
       "4                 0.01                 0.00                 0.01   \n",
       "5                 0.02                 0.00                 0.01   \n",
       "6                 0.01                 0.00                 0.01   \n",
       "7                 0.01                 0.00                 0.01   \n",
       "8                 0.03                 0.00                 0.01   \n",
       "\n",
       "       std_train_score  \n",
       "1                 0.00  \n",
       "2                 0.00  \n",
       "0                 0.00  \n",
       "3                 0.00  \n",
       "4                 0.00  \n",
       "5                 0.00  \n",
       "6                 0.00  \n",
       "7                 0.00  \n",
       "8                 0.00  \n",
       "\n",
       "[9 rows x 25 columns]"
      ]
     },
     "execution_count": 173,
     "metadata": {},
     "output_type": "execute_result"
    }
   ],
   "source": [
    "results = pd.DataFrame(clf.cv_results_)\n",
    "results.sort_values(by='mean_test_score',ascending=False)[0:10]"
   ]
  },
  {
   "cell_type": "code",
   "execution_count": 174,
   "metadata": {},
   "outputs": [
    {
     "data": {
      "text/plain": [
       "0.8730966398230037"
      ]
     },
     "execution_count": 174,
     "metadata": {},
     "output_type": "execute_result"
    }
   ],
   "source": [
    "clf.best_score_"
   ]
  },
  {
   "cell_type": "code",
   "execution_count": 175,
   "metadata": {},
   "outputs": [
    {
     "data": {
      "text/plain": [
       "{'colsample_bylevel': 0.3,\n",
       " 'gamma': 5.4,\n",
       " 'learning_rate': 0.02,\n",
       " 'max_depth': 5,\n",
       " 'n_estimators': 500}"
      ]
     },
     "execution_count": 175,
     "metadata": {},
     "output_type": "execute_result"
    }
   ],
   "source": [
    "clf.best_params_"
   ]
  },
  {
   "cell_type": "code",
   "execution_count": 181,
   "metadata": {},
   "outputs": [
    {
     "data": {
      "text/plain": [
       "XGBClassifier(base_score=0.5, booster='gbtree', colsample_bylevel=0.3,\n",
       "       colsample_bytree=1, early_stopping_rounds=15, eval_metric='auc',\n",
       "       gamma=5.4, learning_rate=0.02, max_delta_step=0, max_depth=5,\n",
       "       min_child_weight=1, missing=None, n_estimators=500, n_jobs=4,\n",
       "       nthread=None, objective='binary:logistic', random_state=0,\n",
       "       reg_alpha=0, reg_lambda=1, scale_pos_weight=1, seed=None,\n",
       "       silent=True, subsample=1)"
      ]
     },
     "execution_count": 181,
     "metadata": {},
     "output_type": "execute_result"
    }
   ],
   "source": [
    "#clf.best_estimator_.fit(X_train,y_train)\n",
    "clf.best_estimator_.fit(train,train_y)"
   ]
  },
  {
   "cell_type": "code",
   "execution_count": 182,
   "metadata": {},
   "outputs": [],
   "source": [
    "predic = clf.predict_proba(test)\n",
    "#predic = clf.best_estimator_.predict_proba(X_test)"
   ]
  },
  {
   "cell_type": "code",
   "execution_count": 183,
   "metadata": {},
   "outputs": [
    {
     "data": {
      "text/plain": [
       "array([0.00422778, 0.03062188, 0.01121635, ..., 0.07989743, 0.06997079,\n",
       "       0.08268707], dtype=float32)"
      ]
     },
     "execution_count": 183,
     "metadata": {},
     "output_type": "execute_result"
    }
   ],
   "source": [
    "predic[:,1]"
   ]
  },
  {
   "cell_type": "code",
   "execution_count": 184,
   "metadata": {},
   "outputs": [
    {
     "data": {
      "text/plain": [
       "<BarContainer object of 32 artists>"
      ]
     },
     "execution_count": 184,
     "metadata": {},
     "output_type": "execute_result"
    },
    {
     "data": {
      "image/png": "[encoded data removed]",
      "text/plain": [
       "<Figure size 1368x864 with 1 Axes>"
      ]
     },
     "metadata": {},
     "output_type": "display_data"
    }
   ],
   "source": [
    "toplot = pd.DataFrame(train.columns.values,clf.best_estimator_.feature_importances_).reset_index()\n",
    "toplot.columns = ['importancia','features']\n",
    "toplot = toplot.sort_values(by='importancia',ascending=False)[0:32]\n",
    "plt.figure(figsize=(19,12))\n",
    "plt.xticks(rotation=0,fontsize=10,color='#90A0D4')\n",
    "plt.yticks(fontsize=10,color='#90A0D4')\n",
    "plt.barh(toplot['features'],toplot['importancia'])"
   ]
  },
  {
   "cell_type": "code",
   "execution_count": 180,
   "metadata": {},
   "outputs": [
    {
     "data": {
      "text/plain": [
       "0.8678577427354733"
      ]
     },
     "execution_count": 180,
     "metadata": {},
     "output_type": "execute_result"
    }
   ],
   "source": [
    "from sklearn.metrics import roc_auc_score\n",
    "roc_auc_score(y_test.values, predic[:,1])"
   ]
  },
  {
   "cell_type": "code",
   "execution_count": 185,
   "metadata": {},
   "outputs": [],
   "source": [
    "submit = pd.DataFrame()\n",
    "submit['person'] = testPerson\n",
    "submit['label'] = predic[:,1]"
   ]
  },
  {
   "cell_type": "code",
   "execution_count": 186,
   "metadata": {},
   "outputs": [],
   "source": [
    "submit.to_csv('/home/pcsor/datos/submit3.csv',index=False)"
   ]
  },
  {
   "cell_type": "code",
   "execution_count": null,
   "metadata": {},
   "outputs": [],
   "source": []
  },
  {
   "cell_type": "code",
   "execution_count": 115,
   "metadata": {},
   "outputs": [
    {
     "name": "stdout",
     "output_type": "stream",
     "text": [
      "Epoch 1/20\n",
      "9707/9707 [==============================] - 2s 158us/step - loss: 0.2460 - acc: 0.9439\n",
      "Epoch 2/20\n",
      "9707/9707 [==============================] - 0s 47us/step - loss: 0.1981 - acc: 0.9491\n",
      "Epoch 3/20\n",
      "9707/9707 [==============================] - 0s 44us/step - loss: 0.1939 - acc: 0.9491\n",
      "Epoch 4/20\n",
      "9707/9707 [==============================] - 0s 41us/step - loss: 0.1910 - acc: 0.9491\n",
      "Epoch 5/20\n",
      "9707/9707 [==============================] - 0s 43us/step - loss: 0.1888 - acc: 0.9491\n",
      "Epoch 6/20\n",
      "9707/9707 [==============================] - 0s 41us/step - loss: 0.1865 - acc: 0.9491\n",
      "Epoch 7/20\n",
      "9707/9707 [==============================] - 0s 51us/step - loss: 0.1826 - acc: 0.9491\n",
      "Epoch 8/20\n",
      "9707/9707 [==============================] - 0s 43us/step - loss: 0.1803 - acc: 0.9491\n",
      "Epoch 9/20\n",
      "9707/9707 [==============================] - 0s 43us/step - loss: 0.1768 - acc: 0.9491\n",
      "Epoch 10/20\n",
      "9707/9707 [==============================] - 0s 42us/step - loss: 0.1721 - acc: 0.9493\n",
      "Epoch 11/20\n",
      "9707/9707 [==============================] - 0s 42us/step - loss: 0.1693 - acc: 0.9492\n",
      "Epoch 12/20\n",
      "9707/9707 [==============================] - 0s 43us/step - loss: 0.1633 - acc: 0.9492\n",
      "Epoch 13/20\n",
      "9707/9707 [==============================] - 0s 43us/step - loss: 0.1620 - acc: 0.9498\n",
      "Epoch 14/20\n",
      "9707/9707 [==============================] - 0s 51us/step - loss: 0.1585 - acc: 0.9499\n",
      "Epoch 15/20\n",
      "9707/9707 [==============================] - 0s 44us/step - loss: 0.1582 - acc: 0.9503\n",
      "Epoch 16/20\n",
      "9707/9707 [==============================] - 0s 43us/step - loss: 0.1544 - acc: 0.9504\n",
      "Epoch 17/20\n",
      "9707/9707 [==============================] - 0s 43us/step - loss: 0.1511 - acc: 0.9511\n",
      "Epoch 18/20\n",
      "9707/9707 [==============================] - 1s 53us/step - loss: 0.1508 - acc: 0.9508\n",
      "Epoch 19/20\n",
      "9707/9707 [==============================] - 0s 43us/step - loss: 0.1480 - acc: 0.9519\n",
      "Epoch 20/20\n",
      "9707/9707 [==============================] - 0s 42us/step - loss: 0.1461 - acc: 0.9520\n"
     ]
    }
   ],
   "source": [
    "\n",
    "import tensorflow as tf\n",
    "mnist = tf.keras.datasets.mnist\n",
    "\n",
    "\n",
    "X_train, X_test, y_train, y_test = train_test_split(train.values, train_y.values, test_size=0.5, random_state=9235)\n",
    "#(x_train, y_train),(x_test, y_test) = mnist.load_data()\n",
    "#x_train, x_test = x_train / 255.0, x_test / 255.0\n",
    "\n",
    "model = tf.keras.models.Sequential([\n",
    "  tf.keras.layers.Flatten(),\n",
    "  tf.keras.layers.Dense(350, activation=tf.nn.relu),\n",
    "  tf.keras.layers.Dropout(0.5),\n",
    "  tf.keras.layers.Dense(64, activation=tf.nn.relu),\n",
    "  tf.keras.layers.Dropout(0.3),\n",
    "  tf.keras.layers.Dense(9, activation=tf.nn.relu),\n",
    "  tf.keras.layers.Dropout(0.1),\n",
    "  tf.keras.layers.Dense(3, activation=tf.nn.softmax),\n",
    "])\n",
    "model.compile(optimizer='adamax',\n",
    "              loss='sparse_categorical_crossentropy',\n",
    "              metrics=['accuracy'])\n",
    "\n",
    "history = model.fit(X_train, y_train, epochs=20)\n",
    "predic = model.predict_proba(X_test)"
   ]
  },
  {
   "cell_type": "code",
   "execution_count": 116,
   "metadata": {},
   "outputs": [
    {
     "data": {
      "text/plain": [
       "0.8325370430619319"
      ]
     },
     "execution_count": 116,
     "metadata": {},
     "output_type": "execute_result"
    }
   ],
   "source": [
    "from sklearn.metrics import roc_auc_score\n",
    "roc_auc_score(y_test, predic[:,1])"
   ]
  },
  {
   "cell_type": "code",
   "execution_count": null,
   "metadata": {},
   "outputs": [],
   "source": []
  }
 ],
 "metadata": {
  "kernelspec": {
   "display_name": "Python 3",
   "language": "python",
   "name": "python3"
  },
  "language_info": {
   "codemirror_mode": {
    "name": "ipython",
    "version": 3
   },
   "file_extension": ".py",
   "mimetype": "text/x-python",
   "name": "python",
   "nbconvert_exporter": "python",
   "pygments_lexer": "ipython3",
   "version": "3.6.4"
  }
 },
 "nbformat": 4,
 "nbformat_minor": 2
}
